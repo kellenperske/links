{
  "nbformat": 4,
  "nbformat_minor": 0,
  "metadata": {
    "colab": {
      "name": "testetarget2",
      "provenance": [],
      "collapsed_sections": [],
      "authorship_tag": "ABX9TyNxVACfwIVhh9NrxUIMTPTD",
      "include_colab_link": true
    },
    "kernelspec": {
      "name": "python3",
      "display_name": "Python 3"
    },
    "language_info": {
      "name": "python"
    }
  },
  "cells": [
    {
      "cell_type": "markdown",
      "metadata": {
        "id": "view-in-github",
        "colab_type": "text"
      },
      "source": [
        "<a href=\"https://colab.research.google.com/github/kellenperske/links/blob/master/testetarget2.ipynb\" target=\"_parent\"><img src=\"https://colab.research.google.com/assets/colab-badge.svg\" alt=\"Open In Colab\"/></a>"
      ]
    },
    {
      "cell_type": "code",
      "source": [
        "n = int(input('Digite a quantidade de termos Fibonacci desejada '))\n",
        "def fibonacci(n):\n",
        "    t1 = 0\n",
        "    t2 = 1\n",
        "    t3 = 0\n",
        "    for _ in range(0, n):\n",
        "        print(t1)\n",
        "        t3 = t1 + t2\n",
        "        t1 = t2\n",
        "        t2 = t3\n",
        "fibonacci(n)"
      ],
      "metadata": {
        "id": "I7yVYNRW4x0s"
      },
      "execution_count": null,
      "outputs": []
    }
  ]
}